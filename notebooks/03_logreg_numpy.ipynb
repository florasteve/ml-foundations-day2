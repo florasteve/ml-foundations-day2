{
 "cells": [
  {
   "cell_type": "markdown",
   "id": "c4f7ea4e",
   "metadata": {},
   "source": [
    "# Logistic Regression from Scratch (NumPy)"
   ]
  },
  {
   "cell_type": "code",
   "execution_count": null,
   "id": "589e3877",
   "metadata": {},
   "outputs": [],
   "source": [
    "import numpy as np\n",
    "# TODO: implement sigmoid, loss, gradient descent"
   ]
  }
 ],
 "metadata": {},
 "nbformat": 4,
 "nbformat_minor": 5
}
