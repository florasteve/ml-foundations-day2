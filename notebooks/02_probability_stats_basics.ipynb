{
 "cells": [
  {
   "cell_type": "markdown",
   "id": "dc501cc6",
   "metadata": {},
   "source": [
    "# Day 2 — Probability & Statistics Basics"
   ]
  },
  {
   "cell_type": "code",
   "execution_count": null,
   "id": "68a2a053",
   "metadata": {},
   "outputs": [],
   "source": [
    "import numpy as np, matplotlib.pyplot as plt\n",
    "np.random.seed(0)\n",
    "# Bernoulli samples & mean\n",
    "p=0.3\n",
    "x=np.random.binomial(1,p,size=1000)\n",
    "print('mean ≈', x.mean())\n",
    "# CLT demo: sample means\n",
    "means=[np.random.binomial(10,p,size=1000).mean() for _ in range(2000)]\n",
    "plt.hist(means, bins=40); plt.title('CLT: Binomial(10,p) sample means'); plt.show()"
   ]
  },
  {
   "cell_type": "markdown",
   "id": "0e72a824",
   "metadata": {},
   "source": [
    "### Bayes rule (symbolic)"
   ]
  },
  {
   "cell_type": "code",
   "execution_count": null,
   "id": "0109a055",
   "metadata": {},
   "outputs": [],
   "source": [
    "from math import isclose\n",
    "P_A=0.01; P_B_given_A=0.9; P_B_given_notA=0.05\n",
    "P_notA=1-P_A\n",
    "P_B = P_B_given_A*P_A + P_B_given_notA*P_notA\n",
    "P_A_given_B = P_B_given_A*P_A / P_B\n",
    "print('P(B)=', round(P_B,4), '  P(A|B)=', round(P_A_given_B,4))"
   ]
  }
 ],
 "metadata": {},
 "nbformat": 4,
 "nbformat_minor": 5
}
