{
 "cells": [
  {
   "cell_type": "markdown",
   "id": "dd96610a",
   "metadata": {},
   "source": [
    "# Probability & Statistics — Day 2"
   ]
  },
  {
   "cell_type": "code",
   "execution_count": null,
   "id": "c67b0769",
   "metadata": {},
   "outputs": [],
   "source": [
    "import sys, numpy as np, pandas as pd\n",
    "print('Python:', sys.version.split()[0])"
   ]
  }
 ],
 "metadata": {},
 "nbformat": 4,
 "nbformat_minor": 5
}
