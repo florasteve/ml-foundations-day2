{
 "cells": [
  {
   "cell_type": "markdown",
   "id": "e2beffee",
   "metadata": {},
   "source": [
    "# Employee Churn — SQL → pandas → Logistic Regression"
   ]
  },
  {
   "cell_type": "code",
   "execution_count": null,
   "id": "5fd36b2c",
   "metadata": {},
   "outputs": [],
   "source": [
    "import sqlite3, pandas as pd\n",
    "# TODO: connect to data/hr.db and explore"
   ]
  }
 ],
 "metadata": {},
 "nbformat": 4,
 "nbformat_minor": 5
}
