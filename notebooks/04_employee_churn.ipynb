{
 "cells": [
  {
   "cell_type": "markdown",
   "id": "f5fa264d",
   "metadata": {},
   "source": [
    "# Employee Churn — SQL → pandas → Logistic Regression"
   ]
  },
  {
   "cell_type": "code",
   "execution_count": null,
   "id": "c8f62634",
   "metadata": {},
   "outputs": [],
   "source": [
    "import sqlite3, pandas as pd, numpy as np\n",
    "from sklearn.model_selection import train_test_split\n",
    "from sklearn.preprocessing import OneHotEncoder, StandardScaler\n",
    "from sklearn.compose import ColumnTransformer\n",
    "from sklearn.pipeline import Pipeline\n",
    "from sklearn.linear_model import LogisticRegression\n",
    "from sklearn.metrics import classification_report\n",
    "# Load from SQLite\n",
    "con = sqlite3.connect('data/hr.db')\n",
    "df = pd.read_sql_query('SELECT * FROM employees', con)\n",
    "con.close()\n",
    "print(df.head())\n",
    "# Features/label\n",
    "y = df['left_company'].astype(int)\n",
    "X = df.drop(columns=['left_company','employee_id'])\n",
    "num_cols = ['age','years_at_company','monthly_income','over_time']\n",
    "cat_cols = ['dept']\n",
    "pre = ColumnTransformer([\n",
    "  ('num', StandardScaler(), num_cols),\n",
    "  ('cat', OneHotEncoder(handle_unknown='ignore'), cat_cols)\n",
    "])\n",
    "clf = Pipeline([\n",
    "  ('prep', pre),\n",
    "  ('lr', LogisticRegression(max_iter=1000))\n",
    "])\n",
    "Xtr,Xte,ytr,yte = train_test_split(X,y,test_size=0.4,random_state=42)\n",
    "clf.fit(Xtr,ytr)\n",
    "print('Train score:', clf.score(Xtr,ytr))\n",
    "print('Test  score:', clf.score(Xte,yte))\n",
    "print(classification_report(yte, clf.predict(Xte)))"
   ]
  }
 ],
 "metadata": {},
 "nbformat": 4,
 "nbformat_minor": 5
}
