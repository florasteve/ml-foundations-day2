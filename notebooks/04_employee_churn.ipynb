{
 "cells": [
  {
   "cell_type": "markdown",
   "id": "e2beffee",
   "metadata": {},
   "source": [
    "# Employee Churn — SQL → pandas → Logistic Regression"
   ]
  },
  {
   "cell_type": "markdown",
   "id": "f13ec132",
   "metadata": {},
   "source": [
    "## Employee Churn — SQL → pandas → Logistic Regression:\n",
    "\n",
    "**Pipeline:**\n",
    "\n",
    "Read from SQLite (data/hr.db)\n",
    "\n",
    "Feature prep (numeric + one-hot categorical)\n",
    "\n",
    "Train/test split & logistic regression (sklearn)\n",
    "\n",
    "Quick metrics + coefficient plot"
   ]
  },
  {
   "cell_type": "code",
   "execution_count": 1,
   "id": "7517cc88",
   "metadata": {},
   "outputs": [
    {
     "name": "stdout",
     "output_type": "stream",
     "text": [
      "Python: 3.13.7\n"
     ]
    }
   ],
   "source": [
    "import os, sqlite3, sys\n",
    "import numpy as np\n",
    "import pandas as pd\n",
    "import matplotlib.pyplot as plt\n",
    "from sklearn.model_selection import train_test_split\n",
    "from sklearn.preprocessing import StandardScaler\n",
    "from sklearn.linear_model import LogisticRegression\n",
    "\n",
    "print(\"Python:\", sys.version.split()[0])\n",
    "os.makedirs(\"../figures\", exist_ok=True)\n",
    "plt.rcParams.update({\"figure.figsize\": (5,4), \"axes.grid\": True, \"axes.spines.top\": False, \"axes.spines.right\": False})\n",
    "\n",
    "DB_PATH = \"../data/hr.db\"  # from notebooks/ to data/\n",
    "assert os.path.exists(DB_PATH), \"Expected ../data/hr.db to exist\"\n"
   ]
  },
  {
   "cell_type": "markdown",
   "id": "4c87c8f8",
   "metadata": {},
   "source": [
    "## Peek at the SQL table:"
   ]
  },
  {
   "cell_type": "code",
   "execution_count": 4,
   "id": "ad2b3af4",
   "metadata": {},
   "outputs": [
    {
     "data": {
      "text/html": [
       "<div>\n",
       "<style scoped>\n",
       "    .dataframe tbody tr th:only-of-type {\n",
       "        vertical-align: middle;\n",
       "    }\n",
       "\n",
       "    .dataframe tbody tr th {\n",
       "        vertical-align: top;\n",
       "    }\n",
       "\n",
       "    .dataframe thead th {\n",
       "        text-align: right;\n",
       "    }\n",
       "</style>\n",
       "<table border=\"1\" class=\"dataframe\">\n",
       "  <thead>\n",
       "    <tr style=\"text-align: right;\">\n",
       "      <th></th>\n",
       "      <th>employee_id</th>\n",
       "      <th>age</th>\n",
       "      <th>dept</th>\n",
       "      <th>years_at_company</th>\n",
       "      <th>monthly_income</th>\n",
       "      <th>over_time</th>\n",
       "      <th>left_company</th>\n",
       "    </tr>\n",
       "  </thead>\n",
       "  <tbody>\n",
       "    <tr>\n",
       "      <th>0</th>\n",
       "      <td>1</td>\n",
       "      <td>29</td>\n",
       "      <td>Sales</td>\n",
       "      <td>3.0</td>\n",
       "      <td>4200.0</td>\n",
       "      <td>1</td>\n",
       "      <td>0</td>\n",
       "    </tr>\n",
       "    <tr>\n",
       "      <th>1</th>\n",
       "      <td>2</td>\n",
       "      <td>41</td>\n",
       "      <td>Engineering</td>\n",
       "      <td>8.0</td>\n",
       "      <td>9800.0</td>\n",
       "      <td>0</td>\n",
       "      <td>0</td>\n",
       "    </tr>\n",
       "    <tr>\n",
       "      <th>2</th>\n",
       "      <td>3</td>\n",
       "      <td>35</td>\n",
       "      <td>Support</td>\n",
       "      <td>2.0</td>\n",
       "      <td>3500.0</td>\n",
       "      <td>1</td>\n",
       "      <td>1</td>\n",
       "    </tr>\n",
       "    <tr>\n",
       "      <th>3</th>\n",
       "      <td>4</td>\n",
       "      <td>50</td>\n",
       "      <td>Engineering</td>\n",
       "      <td>20.0</td>\n",
       "      <td>14200.0</td>\n",
       "      <td>0</td>\n",
       "      <td>0</td>\n",
       "    </tr>\n",
       "    <tr>\n",
       "      <th>4</th>\n",
       "      <td>5</td>\n",
       "      <td>26</td>\n",
       "      <td>Sales</td>\n",
       "      <td>1.0</td>\n",
       "      <td>3100.0</td>\n",
       "      <td>1</td>\n",
       "      <td>1</td>\n",
       "    </tr>\n",
       "    <tr>\n",
       "      <th>5</th>\n",
       "      <td>6</td>\n",
       "      <td>32</td>\n",
       "      <td>HR</td>\n",
       "      <td>4.0</td>\n",
       "      <td>5200.0</td>\n",
       "      <td>0</td>\n",
       "      <td>0</td>\n",
       "    </tr>\n",
       "    <tr>\n",
       "      <th>6</th>\n",
       "      <td>7</td>\n",
       "      <td>38</td>\n",
       "      <td>Support</td>\n",
       "      <td>6.0</td>\n",
       "      <td>6100.0</td>\n",
       "      <td>1</td>\n",
       "      <td>1</td>\n",
       "    </tr>\n",
       "    <tr>\n",
       "      <th>7</th>\n",
       "      <td>8</td>\n",
       "      <td>45</td>\n",
       "      <td>Engineering</td>\n",
       "      <td>9.0</td>\n",
       "      <td>9900.0</td>\n",
       "      <td>0</td>\n",
       "      <td>0</td>\n",
       "    </tr>\n",
       "  </tbody>\n",
       "</table>\n",
       "</div>"
      ],
      "text/plain": [
       "   employee_id  age         dept  years_at_company  monthly_income  over_time  \\\n",
       "0            1   29        Sales               3.0          4200.0          1   \n",
       "1            2   41  Engineering               8.0          9800.0          0   \n",
       "2            3   35      Support               2.0          3500.0          1   \n",
       "3            4   50  Engineering              20.0         14200.0          0   \n",
       "4            5   26        Sales               1.0          3100.0          1   \n",
       "5            6   32           HR               4.0          5200.0          0   \n",
       "6            7   38      Support               6.0          6100.0          1   \n",
       "7            8   45  Engineering               9.0          9900.0          0   \n",
       "\n",
       "   left_company  \n",
       "0             0  \n",
       "1             0  \n",
       "2             1  \n",
       "3             0  \n",
       "4             1  \n",
       "5             0  \n",
       "6             1  \n",
       "7             0  "
      ]
     },
     "execution_count": 4,
     "metadata": {},
     "output_type": "execute_result"
    }
   ],
   "source": [
    "con = sqlite3.connect(DB_PATH)\n",
    "df = pd.read_sql_query(\"SELECT * FROM employees\", con)\n",
    "con.close()\n",
    "\n",
    "df\n"
   ]
  },
  {
   "cell_type": "markdown",
   "id": "a28cc6e6",
   "metadata": {},
   "source": [
    "**Feature engineering**\n",
    "\n",
    "Numeric: age, years_at_company, monthly_income\n",
    "\n",
    "Binary (already 0/1): over_time\n",
    "\n",
    "Categorical (one-hot): dept\n",
    "\n",
    "Target: left_company (0/1)"
   ]
  },
  {
   "cell_type": "code",
   "execution_count": 7,
   "id": "47c4cb40",
   "metadata": {},
   "outputs": [
    {
     "name": "stdout",
     "output_type": "stream",
     "text": [
      "Test accuracy: 0.333\n"
     ]
    }
   ],
   "source": [
    "num_cols = [\"age\", \"years_at_company\", \"monthly_income\"]\n",
    "bin_cols = [\"over_time\"]\n",
    "cat_cols = [\"dept\"]\n",
    "target = \"left_company\"\n",
    "\n",
    "X = df[num_cols + bin_cols + cat_cols]\n",
    "y = df[target].values\n",
    "\n",
    "# One-hot encode dept\n",
    "X = pd.get_dummies(X, columns=cat_cols, drop_first=True)\n",
    "\n",
    "# Train/test split\n",
    "X_train, X_test, y_train, y_test = train_test_split(X.values, y, test_size=0.35, random_state=42, stratify=y)\n",
    "\n",
    "# Scale numeric features (only numerics by index slice)\n",
    "num_idx = [X.columns.get_loc(c) for c in num_cols]\n",
    "scaler = StandardScaler()\n",
    "X_train_scaled = X_train.copy().astype(float)\n",
    "X_test_scaled  = X_test.copy().astype(float)\n",
    "\n",
    "X_train_scaled[:, num_idx] = scaler.fit_transform(X_train[:, num_idx])\n",
    "X_test_scaled[:,  num_idx] = scaler.transform(X_test[:,  num_idx])\n",
    "\n",
    "# Train logistic regression\n",
    "clf = LogisticRegression(max_iter=1000)\n",
    "clf.fit(X_train_scaled, y_train)\n",
    "\n",
    "acc = clf.score(X_test_scaled, y_test)\n",
    "print(f\"Test accuracy: {acc:.3f}\")\n"
   ]
  },
  {
   "cell_type": "markdown",
   "id": "c1ec8463",
   "metadata": {},
   "source": [
    "## Coefficients (feature importance-ish)"
   ]
  },
  {
   "cell_type": "code",
   "execution_count": 9,
   "id": "fa580d51",
   "metadata": {},
   "outputs": [
    {
     "data": {
      "image/png": "[encoded data removed]",
      "text/plain": [
       "<Figure size 500x400 with 1 Axes>"
      ]
     },
     "metadata": {},
     "output_type": "display_data"
    },
    {
     "data": {
      "text/plain": [
       "<Figure size 500x400 with 0 Axes>"
      ]
     },
     "metadata": {},
     "output_type": "display_data"
    }
   ],
   "source": [
    "coefs = pd.Series(clf.coef_.ravel(), index=X.columns)\n",
    "coefs.sort_values().plot(kind=\"barh\")\n",
    "plt.title(\"Logistic Regression coefficients\")\n",
    "plt.tight_layout()\n",
    "plt.show()\n",
    "\n",
    "plt.gcf().savefig(\"../figures/day2_churn_coeffs.png\", dpi=150, bbox_inches=\"tight\")\n"
   ]
  },
  {
   "cell_type": "code",
   "execution_count": 8,
   "id": "5fd36b2c",
   "metadata": {},
   "outputs": [],
   "source": [
    "import sqlite3, pandas as pd\n",
    "# TODO: connect to data/hr.db and explore"
   ]
  }
 ],
 "metadata": {
  "kernelspec": {
   "display_name": "Python (.venv ml-foundations-day2)",
   "language": "python",
   "name": "ml-foundations-day2"
  },
  "language_info": {
   "codemirror_mode": {
    "name": "ipython",
    "version": 3
   },
   "file_extension": ".py",
   "mimetype": "text/x-python",
   "name": "python",
   "nbconvert_exporter": "python",
   "pygments_lexer": "ipython3",
   "version": "3.13.7"
  }
 },
 "nbformat": 4,
 "nbformat_minor": 5
}
